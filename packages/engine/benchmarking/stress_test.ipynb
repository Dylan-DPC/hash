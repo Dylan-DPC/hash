{
 "cells": [
  {
   "cell_type": "code",
   "execution_count": 1,
   "id": "3a544c43-84f0-4c2a-b61d-96ffc3769071",
   "metadata": {},
   "outputs": [],
   "source": [
    "import os\n",
    "import shutil\n",
    "import json\n",
    "import tempfile\n",
    "from pathlib import Path\n",
    "\n",
    "from matplotlib import pyplot as plt\n",
    "import numpy as np\n",
    "\n",
    "from run_experiments import run_experiments, Result"
   ]
  },
  {
   "cell_type": "code",
   "execution_count": 2,
   "id": "557e0131-d72a-4040-a307-17bccc013026",
   "metadata": {},
   "outputs": [],
   "source": [
    "# set envvars\n",
    "# os.environ[\"OS_MEMORY_ALLOC_OVERRIDE\"] = \"25000000\"\n",
    "# os.environ[\"ENGINE_PATH\"] = \"./target/x86_64-apple-darwin/release/hash_engine\"\n",
    "os.environ[\"RUST_LOG\"] = \"info\"\n",
    "os.environ[\"ENGINE_WAIT_TIMEOUT\"] = \"300\"\n",
    "os.environ[\"ENGINE_TARGET_MAX_GROUP_SIZE\"] = \"10000000\""
   ]
  },
  {
   "cell_type": "code",
   "execution_count": 3,
   "id": "8a375679-e2a1-4393-b5e1-9795d32a10fc",
   "metadata": {},
   "outputs": [],
   "source": [
    "# we need cwd to be the engine folder\n",
    "os.chdir(\"./..\")"
   ]
  },
  {
   "cell_type": "code",
   "execution_count": 4,
   "id": "0afc3f14-8d1d-4e9b-83d6-619a0ca87f8f",
   "metadata": {},
   "outputs": [],
   "source": [
    "# clear the output folders\n",
    "def clear_outputs():\n",
    "    try:\n",
    "        shutil.rmtree('./output')\n",
    "        shutil.rmtree('./parts')\n",
    "    except FileNotFoundError:\n",
    "        pass"
   ]
  },
  {
   "cell_type": "code",
   "execution_count": 5,
   "id": "f656960a-1d1d-4e06-883d-19f68a01cef8",
   "metadata": {},
   "outputs": [],
   "source": [
    "def write_to_globals_and_benchmark(src_path: Path, globals_override: dict, num_steps: int):\n",
    "    clear_outputs()\n",
    "    with tempfile.TemporaryDirectory() as temp_folder:\n",
    "        temp_path = shutil.copytree(\n",
    "            src_path, \n",
    "            Path(temp_folder) / src_path.name # Python < 3.8 requires the directory to not already exist for copytree\n",
    "        )\n",
    "        \n",
    "        # override the globals\n",
    "        globals_path = temp_path / \"src\" / \"globals.json\"\n",
    "        global_properties = json.loads(globals_path.read_text())\n",
    "        global_properties.update(globals_override)\n",
    "        globals_path.write_text(json.dumps(global_properties))\n",
    "        \n",
    "        # benchmark a single-run\n",
    "        results = run_experiments(\n",
    "            project_paths=[temp_path], \n",
    "            run_all_experiments=False,\n",
    "            cli_args=[\"single-run\", \"--num-steps\", f\"{num_steps}\"],\n",
    "            texray=True\n",
    "        )\n",
    "        \n",
    "        return results"
   ]
  },
  {
   "cell_type": "code",
   "execution_count": 6,
   "id": "99837ee3-72b6-4165-b4c7-f8988f09c46a",
   "metadata": {},
   "outputs": [],
   "source": [
    "def plot_time_and_mem(results):\n",
    "    agents_to_uss = [(num_agents, res.max_uss_memory) for (num_agents, res) in results]\n",
    "    agents_to_pss = [(num_agents, res.max_pss_memory) for (num_agents, res) in results]\n",
    "    agents_to_time = [(num_agents, res.time_to_completion) for (num_agents, res) in results]\n",
    "    \n",
    "    fig, ax = plt.subplots(figsize=(6,4))\n",
    "    ax.set_title('Time Taken by Number of Agents')\n",
    "    ax.set_xlabel('Number of Agents')\n",
    "    # ax.set_xscale('log')\n",
    "    ax.set_ylabel('Time Taken (s)')\n",
    "    ax.plot(*zip(*agents_to_time))\n",
    "    \n",
    "    fig, ax = plt.subplots(figsize=(6,4))\n",
    "    ax.set_title('Max PSS by Number of Agents')\n",
    "    ax.set_xlabel('Number of Agents')\n",
    "    # ax.set_xscale('log')\n",
    "    ax.set_ylabel('Max PSS (Proportional Set Size) memory')\n",
    "    ax.plot(*zip(*agents_to_pss))\n",
    "    \n",
    "    fig, ax = plt.subplots(figsize=(6,4))\n",
    "    ax.set_title('Max USS by Number of Agents')\n",
    "    ax.set_xlabel('Number of Agents')\n",
    "    # ax.set_xscale('log')\n",
    "    ax.set_ylabel('Max USS (Unique Set Size) memory')\n",
    "    ax.plot(*zip(*agents_to_uss))"
   ]
  },
  {
   "cell_type": "code",
   "execution_count": 7,
   "id": "a0ed5618-6460-4736-8650-d6f7c2adf1e6",
   "metadata": {},
   "outputs": [],
   "source": [
    "# src_path = Path(\"./benchmarking/experiments/num_agents/no_behaviors/init_js/2_fields\")\n",
    "# write_to_globals_and_benchmark(src_path, {\"num_agents\": 5}, num_steps=2)"
   ]
  },
  {
   "cell_type": "markdown",
   "id": "8e862cdf-ba88-4c55-9264-d7dafd62e11c",
   "metadata": {},
   "source": [
    "### Benchmark Number of Agents without Behaviors"
   ]
  },
  {
   "cell_type": "code",
   "execution_count": null,
   "id": "8bc80187-a7f0-41fd-b01c-fb3b1f7c084f",
   "metadata": {},
   "outputs": [
    {
     "name": "stdout",
     "output_type": "stream",
     "text": [
      "Benchmarking with 5000 agents\n"
     ]
    },
    {
     "name": "stderr",
     "output_type": "stream",
     "text": [
      "   Compiling hash_engine_lib v0.0.0 (/home/alfie/code/hash/packages/engine)\n",
      "   Compiling hash_engine v0.0.0 (/home/alfie/code/hash/packages/engine/bin/hash_engine)\n",
      "   Compiling orchestrator v0.0.0 (/home/alfie/code/hash/packages/engine/lib/orchestrator)\n",
      "   Compiling cli v0.0.0 (/home/alfie/code/hash/packages/engine/bin/cli)\n",
      "    Finished release [optimized] target(s) in 1m 29s\n"
     ]
    },
    {
     "name": "stdout",
     "output_type": "stream",
     "text": [
      "Running Experiment with cmd: cargo run --release --bin cli --features texray -- -p /tmp/tmpurk0y4q_/long-age single-run --num-steps 50\n",
      "Time taken: 107.84362626075745\n",
      "max_vms_memory: 9865474048\n",
      "max_rss_memory: 1627987968\n",
      "max_pss_memory: 1626790912\n",
      "Running Experiment finished\n",
      "Couldn't extract texray output for ['cargo', 'run', '--release', '--bin', 'cli', '--features', 'texray', '--', '-p', '/tmp/tmpurk0y4q_/long-age', 'single-run', '--num-steps', '50']: [Errno 2] No such file or directory: 'log/experiment-\"single_run\"\\x1b[0m-texray.txt'\n",
      "Benchmarking with 10000 agents\n"
     ]
    },
    {
     "name": "stderr",
     "output_type": "stream",
     "text": [
      "   Compiling hash_engine_lib v0.0.0 (/home/alfie/code/hash/packages/engine)\n"
     ]
    }
   ],
   "source": [
    "src_path = Path(\"./benchmarking/experiments/stress_test/long-age\")\n",
    "\n",
    "results = []\n",
    "# for num_agents in [10_000, 25_000, 50_000, 75_000, 100_000, 125_000, 250_000, 375_000, 500_000]:\n",
    "for num_agents in [5_000, 10_000]:\n",
    "    print(f\"Benchmarking with {num_agents} agents\")\n",
    "    res = write_to_globals_and_benchmark(src_path, {\"num_agents\": num_agents}, num_steps=50)\n",
    "    \n",
    "    try:\n",
    "        res = list(list(res.values())[0].values())[0] # TODO rework API to make this less unpleasant\n",
    "        results.append((num_agents, res))\n",
    "    except (AttributeError, IndexError): # if an experiment fails it's a NoneType, maybe we don't want to swallow errors\n",
    "        pass\n",
    "    \n",
    "plot_time_and_mem(results)"
   ]
  },
  {
   "cell_type": "code",
   "execution_count": null,
   "id": "07ede122-2650-4aa6-9dfb-abd562a7dbea",
   "metadata": {},
   "outputs": [],
   "source": [
    "for (num_agents, res) in results:\n",
    "    print(res.texray_output)"
   ]
  }
 ],
 "metadata": {
  "kernelspec": {
   "display_name": "Python 3 (ipykernel)",
   "language": "python",
   "name": "python3"
  },
  "language_info": {
   "codemirror_mode": {
    "name": "ipython",
    "version": 3
   },
   "file_extension": ".py",
   "mimetype": "text/x-python",
   "name": "python",
   "nbconvert_exporter": "python",
   "pygments_lexer": "ipython3",
   "version": "3.7.12"
  }
 },
 "nbformat": 4,
 "nbformat_minor": 5
}
