{
 "cells": [
  {
   "cell_type": "code",
   "execution_count": 1,
   "id": "3a544c43-84f0-4c2a-b61d-96ffc3769071",
   "metadata": {},
   "outputs": [],
   "source": [
    "import os\n",
    "import shutil\n",
    "import json\n",
    "from pathlib import Path\n",
    "\n",
    "from matplotlib import pyplot as plt\n",
    "import numpy as np\n",
    "\n",
    "from run_experiments import run_experiments, Result"
   ]
  },
  {
   "cell_type": "code",
   "execution_count": 2,
   "id": "557e0131-d72a-4040-a307-17bccc013026",
   "metadata": {},
   "outputs": [],
   "source": [
    "# set envvars\n",
    "os.environ[\"OS_MEMORY_ALLOC_OVERRIDE\"] = \"25000000\"\n",
    "os.environ[\"ENGINE_PATH\"] = \"./target/x86_64-apple-darwin/release/hash_engine\"\n",
    "os.environ[\"RUST_LOG\"] = \"info\""
   ]
  },
  {
   "cell_type": "code",
   "execution_count": 3,
   "id": "8a375679-e2a1-4393-b5e1-9795d32a10fc",
   "metadata": {},
   "outputs": [],
   "source": [
    "# we need cwd to be the engine folder\n",
    "os.chdir(\"./..\")"
   ]
  },
  {
   "cell_type": "code",
   "execution_count": 4,
   "id": "9b30d81d-ee1c-474b-8cda-6d7d218eac99",
   "metadata": {},
   "outputs": [],
   "source": [
    "# clear the output folders\n",
    "try:\n",
    "    shutil.rmtree('./output')\n",
    "    shutil.rmtree('./parts')\n",
    "except FileNotFoundError:\n",
    "    pass"
   ]
  },
  {
   "cell_type": "code",
   "execution_count": null,
   "id": "bc8ba3c6-1829-4d7b-ab63-cf294d83885c",
   "metadata": {},
   "outputs": [],
   "source": [
    "# results = run_experiments(\n",
    "#     project_paths=[Path(\"./experiments/experiment-test\")], \n",
    "#     run_all_experiments=True,\n",
    "#     cli_run_override=\"./target/x86_64-apple-darwin/release/cli\",\n",
    "#     build_args=[\"--no-default-features\"],\n",
    "#     cli_args=[]\n",
    "# )"
   ]
  },
  {
   "cell_type": "code",
   "execution_count": null,
   "id": "d5cf1db6-1c29-4118-91fa-164b6e46732a",
   "metadata": {},
   "outputs": [],
   "source": [
    "# results = run_experiments(\n",
    "#     project_paths=[\n",
    "#         Path(\"./experiments/sugarscape\"), \n",
    "#         Path(\"./experiments/age\"), \n",
    "#         Path(\"./experiments/neighbors\"), \n",
    "#         Path(\"./experiments/empty_sim\"), \n",
    "#         Path(\"./experiments/warehouse-logistics\")], \n",
    "#     run_all_experiments=True,\n",
    "#     cli_run_override=\"./target/x86_64-apple-darwin/release/cli\",\n",
    "#     build_args=[\"--no-default-features\"],\n",
    "#     cli_args=[],\n",
    "#     continue_on_fail=True\n",
    "# )"
   ]
  },
  {
   "cell_type": "code",
   "execution_count": 5,
   "id": "18560868-475f-4359-b135-b7364029ef02",
   "metadata": {},
   "outputs": [
    {
     "name": "stderr",
     "output_type": "stream",
     "text": [
      "   Compiling provider v0.0.0 (/Users/alfie/Documents/code/hash/packages/engine/lib/provider)\n",
      "warning: clang: warning: -lv8_monolith: 'linker' input unused [-Wunused-command-line-argument]\n",
      "warning: clang: warning: argument unused during compilation: '-L/Users/alfie/.v8_darwin_universal/out.gn/libv8/obj' [-Wunused-command-line-argument]\n",
      "   Compiling hash_engine v0.0.0 (/Users/alfie/Documents/code/hash/packages/engine)\n",
      "warning: associated function is never used: `shrink_with_data_length`\n",
      "   --> src/datastore/storage/visitor.rs:171:12\n",
      "    |\n",
      "171 |     pub fn shrink_with_data_length(&mut self, size: usize) -> Result<BufferChange> {\n",
      "    |            ^^^^^^^^^^^^^^^^^^^^^^^\n",
      "    |\n",
      "    = note: `#[warn(dead_code)]` on by default\n",
      "\n",
      "warning: `hash_engine` (lib) generated 1 warning\n",
      "   Compiling cli v0.0.0 (/Users/alfie/Documents/code/hash/packages/engine/bin/cli)\n",
      "   Compiling server v0.0.0 (/Users/alfie/Documents/code/hash/packages/engine/bin/server)\n"
     ]
    },
    {
     "name": "stdout",
     "output_type": "stream",
     "text": [
      "Running Experiment with cmd: ./target/x86_64-apple-darwin/release/cli -p experiments/sugarscape single-run --num-steps 10\n"
     ]
    },
    {
     "name": "stderr",
     "output_type": "stream",
     "text": [
      "    Finished release [optimized] target(s) in 32.50s\n"
     ]
    },
    {
     "ename": "AttributeError",
     "evalue": "module 'psutil' has no attribute 'error'",
     "output_type": "error",
     "traceback": [
      "\u001b[0;31m---------------------------------------------------------------------------\u001b[0m",
      "\u001b[0;31mAttributeError\u001b[0m                            Traceback (most recent call last)",
      "\u001b[0;32m~/Documents/code/hash/packages/engine/benchmarking/run_experiments.py\u001b[0m in \u001b[0;36mpoll\u001b[0;34m(self)\u001b[0m\n\u001b[1;32m     72\u001b[0m             \u001b[0;31m# obtain a list of the subprocess and all its descendants\u001b[0m\u001b[0;34m\u001b[0m\u001b[0;34m\u001b[0m\u001b[0m\n\u001b[0;32m---> 73\u001b[0;31m             \u001b[0mdescendants\u001b[0m \u001b[0;34m=\u001b[0m \u001b[0mlist\u001b[0m\u001b[0;34m(\u001b[0m\u001b[0mpp\u001b[0m\u001b[0;34m.\u001b[0m\u001b[0mget_children\u001b[0m\u001b[0;34m(\u001b[0m\u001b[0mrecursive\u001b[0m\u001b[0;34m=\u001b[0m\u001b[0;32mTrue\u001b[0m\u001b[0;34m)\u001b[0m\u001b[0;34m)\u001b[0m\u001b[0;34m\u001b[0m\u001b[0;34m\u001b[0m\u001b[0m\n\u001b[0m\u001b[1;32m     74\u001b[0m             \u001b[0mdescendants\u001b[0m \u001b[0;34m=\u001b[0m \u001b[0mdescendants\u001b[0m \u001b[0;34m+\u001b[0m \u001b[0;34m[\u001b[0m\u001b[0mpp\u001b[0m\u001b[0;34m]\u001b[0m\u001b[0;34m\u001b[0m\u001b[0;34m\u001b[0m\u001b[0m\n",
      "\u001b[0;31mAttributeError\u001b[0m: 'Process' object has no attribute 'get_children'",
      "\nDuring handling of the above exception, another exception occurred:\n",
      "\u001b[0;31mAttributeError\u001b[0m                            Traceback (most recent call last)",
      "\u001b[0;32m/var/folders/qz/7qtcpsjn0hqchnnyctsb_8dc0000gn/T/ipykernel_4630/171347544.py\u001b[0m in \u001b[0;36m<module>\u001b[0;34m\u001b[0m\n\u001b[0;32m----> 1\u001b[0;31m results = run_experiments(\n\u001b[0m\u001b[1;32m      2\u001b[0m     \u001b[0mproject_paths\u001b[0m\u001b[0;34m=\u001b[0m\u001b[0;34m[\u001b[0m\u001b[0mPath\u001b[0m\u001b[0;34m(\u001b[0m\u001b[0;34m\"./experiments/sugarscape\"\u001b[0m\u001b[0;34m)\u001b[0m\u001b[0;34m]\u001b[0m\u001b[0;34m,\u001b[0m\u001b[0;34m\u001b[0m\u001b[0;34m\u001b[0m\u001b[0m\n\u001b[1;32m      3\u001b[0m     \u001b[0mrun_all_experiments\u001b[0m\u001b[0;34m=\u001b[0m\u001b[0;32mFalse\u001b[0m\u001b[0;34m,\u001b[0m\u001b[0;34m\u001b[0m\u001b[0;34m\u001b[0m\u001b[0m\n\u001b[1;32m      4\u001b[0m     \u001b[0mcli_run_override\u001b[0m\u001b[0;34m=\u001b[0m\u001b[0;34m\"./target/x86_64-apple-darwin/release/cli\"\u001b[0m\u001b[0;34m,\u001b[0m\u001b[0;34m\u001b[0m\u001b[0;34m\u001b[0m\u001b[0m\n\u001b[1;32m      5\u001b[0m     \u001b[0mbuild_args\u001b[0m\u001b[0;34m=\u001b[0m\u001b[0;34m[\u001b[0m\u001b[0;34m\"--no-default-features\"\u001b[0m\u001b[0;34m]\u001b[0m\u001b[0;34m,\u001b[0m\u001b[0;34m\u001b[0m\u001b[0;34m\u001b[0m\u001b[0m\n",
      "\u001b[0;32m~/Documents/code/hash/packages/engine/benchmarking/run_experiments.py\u001b[0m in \u001b[0;36mrun_experiments\u001b[0;34m(project_paths, run_all_experiments, cli_run_override, build_args, cli_args, continue_on_fail)\u001b[0m\n\u001b[1;32m    165\u001b[0m                 \u001b[0;31m# poll as often as possible; otherwise the subprocess might\u001b[0m\u001b[0;34m\u001b[0m\u001b[0;34m\u001b[0m\u001b[0m\n\u001b[1;32m    166\u001b[0m                 \u001b[0;31m# \"sneak\" in some extra memory usage while you aren't looking\u001b[0m\u001b[0;34m\u001b[0m\u001b[0;34m\u001b[0m\u001b[0m\n\u001b[0;32m--> 167\u001b[0;31m                 \u001b[0;32mwhile\u001b[0m \u001b[0mprocess_timer\u001b[0m\u001b[0;34m.\u001b[0m\u001b[0mpoll\u001b[0m\u001b[0;34m(\u001b[0m\u001b[0;34m)\u001b[0m\u001b[0;34m:\u001b[0m\u001b[0;34m\u001b[0m\u001b[0;34m\u001b[0m\u001b[0m\n\u001b[0m\u001b[1;32m    168\u001b[0m                     \u001b[0mtime\u001b[0m\u001b[0;34m.\u001b[0m\u001b[0msleep\u001b[0m\u001b[0;34m(\u001b[0m\u001b[0;36m.1\u001b[0m\u001b[0;34m)\u001b[0m\u001b[0;34m\u001b[0m\u001b[0;34m\u001b[0m\u001b[0m\n\u001b[1;32m    169\u001b[0m             \u001b[0;32mfinally\u001b[0m\u001b[0;34m:\u001b[0m\u001b[0;34m\u001b[0m\u001b[0;34m\u001b[0m\u001b[0m\n",
      "\u001b[0;32m~/Documents/code/hash/packages/engine/benchmarking/run_experiments.py\u001b[0m in \u001b[0;36mpoll\u001b[0;34m(self)\u001b[0m\n\u001b[1;32m     92\u001b[0m             \u001b[0mself\u001b[0m\u001b[0;34m.\u001b[0m\u001b[0mmax_rss_memory\u001b[0m \u001b[0;34m=\u001b[0m \u001b[0mmax\u001b[0m\u001b[0;34m(\u001b[0m\u001b[0mself\u001b[0m\u001b[0;34m.\u001b[0m\u001b[0mmax_rss_memory\u001b[0m\u001b[0;34m,\u001b[0m \u001b[0mrss_memory\u001b[0m\u001b[0;34m)\u001b[0m\u001b[0;34m\u001b[0m\u001b[0;34m\u001b[0m\u001b[0m\n\u001b[1;32m     93\u001b[0m \u001b[0;34m\u001b[0m\u001b[0m\n\u001b[0;32m---> 94\u001b[0;31m         \u001b[0;32mexcept\u001b[0m \u001b[0mpsutil\u001b[0m\u001b[0;34m.\u001b[0m\u001b[0merror\u001b[0m\u001b[0;34m.\u001b[0m\u001b[0mNoSuchProcess\u001b[0m\u001b[0;34m:\u001b[0m\u001b[0;34m\u001b[0m\u001b[0;34m\u001b[0m\u001b[0m\n\u001b[0m\u001b[1;32m     95\u001b[0m             \u001b[0;32mreturn\u001b[0m \u001b[0mself\u001b[0m\u001b[0;34m.\u001b[0m\u001b[0mcheck_execution_state\u001b[0m\u001b[0;34m(\u001b[0m\u001b[0;34m)\u001b[0m\u001b[0;34m\u001b[0m\u001b[0;34m\u001b[0m\u001b[0m\n\u001b[1;32m     96\u001b[0m \u001b[0;34m\u001b[0m\u001b[0m\n",
      "\u001b[0;31mAttributeError\u001b[0m: module 'psutil' has no attribute 'error'"
     ]
    }
   ],
   "source": [
    "results = run_experiments(\n",
    "    project_paths=[Path(\"./experiments/sugarscape\")], \n",
    "    run_all_experiments=False,\n",
    "    cli_run_override=\"./target/x86_64-apple-darwin/release/cli\",\n",
    "    build_args=[\"--no-default-features\"],\n",
    "    cli_args=[\"single-run\", \"--num-steps\", \"10\"]\n",
    ")"
   ]
  },
  {
   "cell_type": "code",
   "execution_count": null,
   "id": "e6134ce3-ee91-40b7-8b14-b3e44a310738",
   "metadata": {},
   "outputs": [],
   "source": [
    "for experiment_group, experiment_results in results.items():\n",
    "    print(f\"Experiment Group: {experiment_group}\")\n",
    "    \n",
    "    for experiment_name, experiment_result in experiment_results.items():\n",
    "        print(f\"Experiment Name: {experiment_name}\")\n",
    "        if experiment_result.res != Result.SUCCESS:\n",
    "            print(f\"Experiment failed, skipping\")\n",
    "            continue\n",
    "        \n",
    "        for output_folder in experiment_result.output_folders:\n",
    "            global_properties = json.loads((output_folder / \"globals.json\").read_text())\n",
    "            analysis_outputs = json.loads((output_folder / \"analysis_outputs.json\").read_text())\n",
    "            state = json.loads((output_folder / \"json_state.json\").read_text())\n",
    "            \n",
    "            if not analysis_outputs['manifest'] and not analysis_outputs['buffers']:\n",
    "                continue\n",
    "            \n",
    "            plot_defs = { plot_def['title']: (lambda d: d.pop('title') and d)(plot_def) for plot_def in analysis_outputs['manifest']['plots'] }\n",
    "            outputs = analysis_outputs['buffers']\n",
    "            \n",
    "            plot(plot_defs, outputs)"
   ]
  },
  {
   "cell_type": "code",
   "execution_count": null,
   "id": "fdd3aef0-b324-4034-a91b-fd7c0d14f497",
   "metadata": {},
   "outputs": [],
   "source": []
  }
 ],
 "metadata": {
  "kernelspec": {
   "display_name": "Python 3 (ipykernel)",
   "language": "python",
   "name": "python3"
  },
  "language_info": {
   "codemirror_mode": {
    "name": "ipython",
    "version": 3
   },
   "file_extension": ".py",
   "mimetype": "text/x-python",
   "name": "python",
   "nbconvert_exporter": "python",
   "pygments_lexer": "ipython3",
   "version": "3.9.7"
  }
 },
 "nbformat": 4,
 "nbformat_minor": 5
}
