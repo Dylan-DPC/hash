{
 "cells": [
  {
   "cell_type": "code",
   "execution_count": 1,
   "id": "3a544c43-84f0-4c2a-b61d-96ffc3769071",
   "metadata": {},
   "outputs": [],
   "source": [
    "import os\n",
    "import shutil\n",
    "import json\n",
    "import tempfile\n",
    "from pathlib import Path\n",
    "\n",
    "from matplotlib import pyplot as plt\n",
    "import numpy as np\n",
    "\n",
    "from run_experiments import run_experiments, Result"
   ]
  },
  {
   "cell_type": "code",
   "execution_count": 2,
   "id": "557e0131-d72a-4040-a307-17bccc013026",
   "metadata": {},
   "outputs": [],
   "source": [
    "# set envvars\n",
    "# os.environ[\"OS_MEMORY_ALLOC_OVERRIDE\"] = \"25000000\"\n",
    "# os.environ[\"ENGINE_PATH\"] = \"./target/x86_64-apple-darwin/release/hash_engine\"\n",
    "os.environ[\"RUST_LOG\"] = \"info\"\n",
    "os.environ[\"ENGINE_WAIT_TIMEOUT\"] = \"1000\""
   ]
  },
  {
   "cell_type": "code",
   "execution_count": 3,
   "id": "8a375679-e2a1-4393-b5e1-9795d32a10fc",
   "metadata": {},
   "outputs": [],
   "source": [
    "# we need cwd to be the engine folder\n",
    "os.chdir(\"./..\")"
   ]
  },
  {
   "cell_type": "code",
   "execution_count": 4,
   "id": "0afc3f14-8d1d-4e9b-83d6-619a0ca87f8f",
   "metadata": {},
   "outputs": [],
   "source": [
    "# clear the output folders\n",
    "def clear_outputs():\n",
    "    try:\n",
    "        shutil.rmtree('./output')\n",
    "        shutil.rmtree('./parts')\n",
    "    except FileNotFoundError:\n",
    "        pass"
   ]
  },
  {
   "cell_type": "code",
   "execution_count": 5,
   "id": "f656960a-1d1d-4e06-883d-19f68a01cef8",
   "metadata": {},
   "outputs": [],
   "source": [
    "def write_to_globals_and_benchmark(src_path: Path, globals_override: dict, num_steps: int):\n",
    "    clear_outputs()\n",
    "    with tempfile.TemporaryDirectory() as temp_folder:\n",
    "        temp_path = shutil.copytree(\n",
    "            src_path, \n",
    "            Path(temp_folder) / src_path.name # Python < 3.8 requires the directory to not already exist for copytree\n",
    "        )\n",
    "        \n",
    "        # override the globals\n",
    "        globals_path = temp_path / \"src\" / \"globals.json\"\n",
    "        global_properties = json.loads(globals_path.read_text())\n",
    "        global_properties.update(globals_override)\n",
    "        globals_path.write_text(json.dumps(global_properties))\n",
    "        \n",
    "        # benchmark a single-run\n",
    "        results = run_experiments(\n",
    "            project_paths=[temp_path], \n",
    "            run_all_experiments=False,\n",
    "            cli_args=[\"single-run\", \"--num-steps\", f\"{num_steps}\"]\n",
    "        )\n",
    "        \n",
    "        return results"
   ]
  },
  {
   "cell_type": "code",
   "execution_count": 6,
   "id": "99837ee3-72b6-4165-b4c7-f8988f09c46a",
   "metadata": {},
   "outputs": [],
   "source": [
    "def plot_time_and_mem(results):\n",
    "    agents_to_uss = [(num_agents, res.max_uss_memory) for (num_agents, res) in results]\n",
    "    agents_to_time = [(num_agents, res.time_to_completion) for (num_agents, res) in results]\n",
    "    \n",
    "    fig, ax = plt.subplots(figsize=(6,4))\n",
    "    ax.set_title('Max USS by Number of Agents')\n",
    "    ax.set_xlabel('Number of Agents')\n",
    "    # ax.set_xscale('log')\n",
    "    ax.set_ylabel('Max USS (Unique Set Size) memory')\n",
    "    ax.plot(*zip(*agents_to_uss))\n",
    "\n",
    "    fig, ax = plt.subplots(figsize=(6,4))\n",
    "    ax.set_title('Time Taken by Number of Agents')\n",
    "    ax.set_xlabel('Number of Agents')\n",
    "    # ax.set_xscale('log')\n",
    "    ax.set_ylabel('Time Taken (s)')\n",
    "    ax.plot(*zip(*agents_to_time))"
   ]
  },
  {
   "cell_type": "code",
   "execution_count": 7,
   "id": "a0ed5618-6460-4736-8650-d6f7c2adf1e6",
   "metadata": {},
   "outputs": [],
   "source": [
    "# src_path = Path(\"./benchmarking/experiments/num_agents/no_behaviors/init_js/2_fields\")\n",
    "# write_to_globals_and_benchmark(src_path, {\"num_agents\": 5}, num_steps=2)"
   ]
  },
  {
   "cell_type": "markdown",
   "id": "8e862cdf-ba88-4c55-9264-d7dafd62e11c",
   "metadata": {},
   "source": [
    "### Benchmark Number of Agents without Behaviors"
   ]
  },
  {
   "cell_type": "code",
   "execution_count": 8,
   "id": "8bc80187-a7f0-41fd-b01c-fb3b1f7c084f",
   "metadata": {},
   "outputs": [
    {
     "name": "stdout",
     "output_type": "stream",
     "text": [
      "Benchmarking with 1 agents\n"
     ]
    },
    {
     "name": "stderr",
     "output_type": "stream",
     "text": [
      "    Finished release [optimized] target(s) in 0.18s\n"
     ]
    },
    {
     "name": "stdout",
     "output_type": "stream",
     "text": [
      "Running Experiment with cmd: cargo run --release --bin cli -- -p /tmp/tmpc1u4fj8_/no_fields single-run --num-steps 10\n",
      "Time taken: 1.4143893718719482\n",
      "max_vms_memory: 9225211904\n",
      "max_rss_memory: 48099328\n",
      "Running Experiment finished\n",
      "Benchmarking with 10 agents\n"
     ]
    },
    {
     "name": "stderr",
     "output_type": "stream",
     "text": [
      "    Finished release [optimized] target(s) in 0.20s\n"
     ]
    },
    {
     "name": "stdout",
     "output_type": "stream",
     "text": [
      "Running Experiment with cmd: cargo run --release --bin cli -- -p /tmp/tmp1ahugk7b/no_fields single-run --num-steps 10\n",
      "Time taken: 1.528874397277832\n",
      "max_vms_memory: 9380421632\n",
      "max_rss_memory: 49717248\n",
      "Running Experiment finished\n",
      "Benchmarking with 100 agents\n"
     ]
    },
    {
     "name": "stderr",
     "output_type": "stream",
     "text": [
      "    Finished release [optimized] target(s) in 0.19s\n"
     ]
    },
    {
     "name": "stdout",
     "output_type": "stream",
     "text": [
      "Running Experiment with cmd: cargo run --release --bin cli -- -p /tmp/tmpwb3xmaea/no_fields single-run --num-steps 10\n",
      "Time taken: 1.514254093170166\n",
      "max_vms_memory: 9292435456\n",
      "max_rss_memory: 54898688\n",
      "Running Experiment finished\n",
      "Benchmarking with 1000 agents\n"
     ]
    },
    {
     "name": "stderr",
     "output_type": "stream",
     "text": [
      "    Finished release [optimized] target(s) in 0.19s\n"
     ]
    },
    {
     "name": "stdout",
     "output_type": "stream",
     "text": [
      "Running Experiment with cmd: cargo run --release --bin cli -- -p /tmp/tmpm23d89f9/no_fields single-run --num-steps 10\n",
      "Time taken: 1.961864709854126\n",
      "max_vms_memory: 9360007168\n",
      "max_rss_memory: 83644416\n",
      "Running Experiment finished\n",
      "Benchmarking with 10000 agents\n"
     ]
    },
    {
     "name": "stderr",
     "output_type": "stream",
     "text": [
      "    Finished release [optimized] target(s) in 0.18s\n"
     ]
    },
    {
     "name": "stdout",
     "output_type": "stream",
     "text": [
      "Running Experiment with cmd: cargo run --release --bin cli -- -p /tmp/tmp379n4ahv/no_fields single-run --num-steps 10\n",
      "Time taken: 5.376662731170654\n",
      "max_vms_memory: 9436073984\n",
      "max_rss_memory: 203821056\n",
      "Running Experiment finished\n",
      "Benchmarking with 100000 agents\n"
     ]
    },
    {
     "name": "stderr",
     "output_type": "stream",
     "text": [
      "    Finished release [optimized] target(s) in 0.18s\n"
     ]
    },
    {
     "name": "stdout",
     "output_type": "stream",
     "text": [
      "Running Experiment with cmd: cargo run --release --bin cli -- -p /tmp/tmpjhpuh6mm/no_fields single-run --num-steps 10\n",
      "Time taken: 39.74739480018616\n",
      "max_vms_memory: 9689448448\n",
      "max_rss_memory: 981032960\n",
      "Running Experiment finished\n"
     ]
    },
    {
     "data": {
      "image/png": "[encoded data removed]",
      "text/plain": [
       "<Figure size 432x288 with 1 Axes>"
      ]
     },
     "metadata": {
      "needs_background": "light"
     },
     "output_type": "display_data"
    },
    {
     "data": {
      "image/png": "[encoded data removed]",
      "text/plain": [
       "<Figure size 432x288 with 1 Axes>"
      ]
     },
     "metadata": {
      "needs_background": "light"
     },
     "output_type": "display_data"
    }
   ],
   "source": [
    "src_path = Path(\"./benchmarking/experiments/num_agents/no_behaviors/init_js/no_fields\")\n",
    "\n",
    "results = []\n",
    "for power in range(6):\n",
    "    num_agents = 10**power\n",
    "    print(f\"Benchmarking with {num_agents} agents\")\n",
    "    res = write_to_globals_and_benchmark(src_path, {\"num_agents\": num_agents}, num_steps=10)\n",
    "    \n",
    "    try:\n",
    "        res = list(list(res.values())[0].values())[0] # TODO rework API to make this less unpleasant\n",
    "        results.append((num_agents, res))\n",
    "    except (AttributeError, IndexError): # if an experiment fails it's a NoneType, maybe we don't want to swallow errors\n",
    "        pass\n",
    "    \n",
    "plot_time_and_mem(results)"
   ]
  },
  {
   "cell_type": "code",
   "execution_count": 9,
   "id": "9ca7a4c6-7771-44bd-b179-39b866837fbb",
   "metadata": {},
   "outputs": [
    {
     "name": "stdout",
     "output_type": "stream",
     "text": [
      "Benchmarking with 1 agents\n"
     ]
    },
    {
     "name": "stderr",
     "output_type": "stream",
     "text": [
      "    Finished release [optimized] target(s) in 0.20s\n"
     ]
    },
    {
     "name": "stdout",
     "output_type": "stream",
     "text": [
      "Running Experiment with cmd: cargo run --release --bin cli -- -p /tmp/tmpk086x1kg/1_field single-run --num-steps 10\n",
      "Time taken: 1.5375614166259766\n",
      "max_vms_memory: 9292337152\n",
      "max_rss_memory: 48836608\n",
      "Running Experiment finished\n",
      "Benchmarking with 10 agents\n"
     ]
    },
    {
     "name": "stderr",
     "output_type": "stream",
     "text": [
      "    Finished release [optimized] target(s) in 0.22s\n"
     ]
    },
    {
     "name": "stdout",
     "output_type": "stream",
     "text": [
      "Running Experiment with cmd: cargo run --release --bin cli -- -p /tmp/tmpnjw2lf5a/1_field single-run --num-steps 10\n",
      "Time taken: 1.5235116481781006\n",
      "max_vms_memory: 9359446016\n",
      "max_rss_memory: 50442240\n",
      "Running Experiment finished\n",
      "Benchmarking with 100 agents\n"
     ]
    },
    {
     "name": "stderr",
     "output_type": "stream",
     "text": [
      "    Finished release [optimized] target(s) in 0.21s\n"
     ]
    },
    {
     "name": "stdout",
     "output_type": "stream",
     "text": [
      "Running Experiment with cmd: cargo run --release --bin cli -- -p /tmp/tmp24p0scd9/1_field single-run --num-steps 10\n",
      "Time taken: 1.6307950019836426\n",
      "max_vms_memory: 9380519936\n",
      "max_rss_memory: 55406592\n",
      "Running Experiment finished\n",
      "Benchmarking with 1000 agents\n"
     ]
    },
    {
     "name": "stderr",
     "output_type": "stream",
     "text": [
      "    Finished release [optimized] target(s) in 0.19s\n"
     ]
    },
    {
     "name": "stdout",
     "output_type": "stream",
     "text": [
      "Running Experiment with cmd: cargo run --release --bin cli -- -p /tmp/tmpvo6g9clk/1_field single-run --num-steps 10\n",
      "Time taken: 1.979583501815796\n",
      "max_vms_memory: 9246765056\n",
      "max_rss_memory: 87990272\n",
      "Running Experiment finished\n",
      "Benchmarking with 10000 agents\n"
     ]
    },
    {
     "name": "stderr",
     "output_type": "stream",
     "text": [
      "    Finished release [optimized] target(s) in 0.19s\n"
     ]
    },
    {
     "name": "stdout",
     "output_type": "stream",
     "text": [
      "Running Experiment with cmd: cargo run --release --bin cli -- -p /tmp/tmp23u2wzen/1_field single-run --num-steps 10\n",
      "Time taken: 5.418209075927734\n",
      "max_vms_memory: 9301856256\n",
      "max_rss_memory: 201220096\n",
      "Running Experiment finished\n",
      "Benchmarking with 100000 agents\n"
     ]
    },
    {
     "name": "stderr",
     "output_type": "stream",
     "text": [
      "    Finished release [optimized] target(s) in 0.19s\n"
     ]
    },
    {
     "name": "stdout",
     "output_type": "stream",
     "text": [
      "Running Experiment with cmd: cargo run --release --bin cli -- -p /tmp/tmpaaaewsj0/1_field single-run --num-steps 10\n",
      "Time taken: 40.12502717971802\n",
      "max_vms_memory: 9893326848\n",
      "max_rss_memory: 1146454016\n",
      "Running Experiment finished\n"
     ]
    },
    {
     "data": {
      "image/png": "[encoded data removed]",
      "text/plain": [
       "<Figure size 432x288 with 1 Axes>"
      ]
     },
     "metadata": {
      "needs_background": "light"
     },
     "output_type": "display_data"
    },
    {
     "data": {
      "image/png": "[encoded data removed]",
      "text/plain": [
       "<Figure size 432x288 with 1 Axes>"
      ]
     },
     "metadata": {
      "needs_background": "light"
     },
     "output_type": "display_data"
    }
   ],
   "source": [
    "src_path = Path(\"./benchmarking/experiments/num_agents/no_behaviors/init_js/1_field\")\n",
    "\n",
    "results = []\n",
    "for power in range(6):\n",
    "    num_agents = 10**power\n",
    "    print(f\"Benchmarking with {num_agents} agents\")\n",
    "    res = write_to_globals_and_benchmark(src_path, {\"num_agents\": num_agents}, num_steps=10)\n",
    "    \n",
    "    try:\n",
    "        res = list(list(res.values())[0].values())[0] # TODO rework API to make this less unpleasant\n",
    "        results.append((num_agents, res))\n",
    "    except AttributeError: # if an experiment fails it's a NoneType, maybe we don't want to swallow errors\n",
    "        pass\n",
    "    \n",
    "plot_time_and_mem(results)"
   ]
  },
  {
   "cell_type": "code",
   "execution_count": 11,
   "id": "fdd3aef0-b324-4034-a91b-fd7c0d14f497",
   "metadata": {},
   "outputs": [
    {
     "name": "stdout",
     "output_type": "stream",
     "text": [
      "Benchmarking with 1 agents\n"
     ]
    },
    {
     "name": "stderr",
     "output_type": "stream",
     "text": [
      "    Finished release [optimized] target(s) in 0.26s\n"
     ]
    },
    {
     "name": "stdout",
     "output_type": "stream",
     "text": [
      "Running Experiment with cmd: cargo run --release --bin cli -- -p /tmp/tmp5ckjhljt/2_fields single-run --num-steps 10\n",
      "Time taken: 1.5242674350738525\n",
      "max_vms_memory: 9313312768\n",
      "max_rss_memory: 47857664\n",
      "Running Experiment finished\n",
      "Benchmarking with 10 agents\n"
     ]
    },
    {
     "name": "stderr",
     "output_type": "stream",
     "text": [
      "    Finished release [optimized] target(s) in 0.21s\n"
     ]
    },
    {
     "name": "stdout",
     "output_type": "stream",
     "text": [
      "Running Experiment with cmd: cargo run --release --bin cli -- -p /tmp/tmppwsxl0i4/2_fields single-run --num-steps 10\n",
      "Time taken: 1.52378511428833\n",
      "max_vms_memory: 9426554880\n",
      "max_rss_memory: 49864704\n",
      "Running Experiment finished\n",
      "Benchmarking with 100 agents\n"
     ]
    },
    {
     "name": "stderr",
     "output_type": "stream",
     "text": [
      "    Finished release [optimized] target(s) in 0.21s\n"
     ]
    },
    {
     "name": "stdout",
     "output_type": "stream",
     "text": [
      "Running Experiment with cmd: cargo run --release --bin cli -- -p /tmp/tmp20jeu83w/2_fields single-run --num-steps 10\n",
      "Time taken: 1.5345730781555176\n",
      "max_vms_memory: 9359544320\n",
      "max_rss_memory: 56279040\n",
      "Running Experiment finished\n",
      "Benchmarking with 1000 agents\n"
     ]
    },
    {
     "name": "stderr",
     "output_type": "stream",
     "text": [
      "    Finished release [optimized] target(s) in 0.19s\n"
     ]
    },
    {
     "name": "stdout",
     "output_type": "stream",
     "text": [
      "Running Experiment with cmd: cargo run --release --bin cli -- -p /tmp/tmpb27riits/2_fields single-run --num-steps 10\n",
      "Time taken: 1.9688780307769775\n",
      "max_vms_memory: 9246765056\n",
      "max_rss_memory: 87003136\n",
      "Running Experiment finished\n",
      "Benchmarking with 10000 agents\n"
     ]
    },
    {
     "name": "stderr",
     "output_type": "stream",
     "text": [
      "    Finished release [optimized] target(s) in 0.22s\n"
     ]
    },
    {
     "name": "stdout",
     "output_type": "stream",
     "text": [
      "Running Experiment with cmd: cargo run --release --bin cli -- -p /tmp/tmpkdu8b014/2_fields single-run --num-steps 10\n",
      "Time taken: 5.423962116241455\n",
      "max_vms_memory: 9389940736\n",
      "max_rss_memory: 215183360\n",
      "Running Experiment finished\n",
      "Benchmarking with 100000 agents\n"
     ]
    },
    {
     "name": "stderr",
     "output_type": "stream",
     "text": [
      "    Finished release [optimized] target(s) in 0.19s\n"
     ]
    },
    {
     "name": "stdout",
     "output_type": "stream",
     "text": [
      "Running Experiment with cmd: cargo run --release --bin cli -- -p /tmp/tmpt851_677/2_fields single-run --num-steps 10\n",
      "Time taken: 40.8977997303009\n",
      "max_vms_memory: 9840443392\n",
      "max_rss_memory: 1313648640\n",
      "Running Experiment finished\n"
     ]
    },
    {
     "data": {
      "image/png": "[encoded data removed]",
      "text/plain": [
       "<Figure size 432x288 with 1 Axes>"
      ]
     },
     "metadata": {
      "needs_background": "light"
     },
     "output_type": "display_data"
    },
    {
     "data": {
      "image/png": "[encoded data removed]",
      "text/plain": [
       "<Figure size 432x288 with 1 Axes>"
      ]
     },
     "metadata": {
      "needs_background": "light"
     },
     "output_type": "display_data"
    }
   ],
   "source": [
    "src_path = Path(\"./benchmarking/experiments/num_agents/no_behaviors/init_js/2_fields\")\n",
    "\n",
    "results = []\n",
    "for power in range(6):\n",
    "    num_agents = 10**power\n",
    "    print(f\"Benchmarking with {num_agents} agents\")\n",
    "    res = write_to_globals_and_benchmark(src_path, {\"num_agents\": num_agents}, num_steps=10)\n",
    "    \n",
    "    try:\n",
    "        res = list(list(res.values())[0].values())[0] # TODO rework API to make this less unpleasant\n",
    "        results.append((num_agents, res))\n",
    "    except AttributeError: # if an experiment fails it's a NoneType, maybe we don't want to swallow errors\n",
    "        pass\n",
    "    \n",
    "plot_time_and_mem(results)"
   ]
  },
  {
   "cell_type": "code",
   "execution_count": null,
   "id": "aac64e65-c5e4-47a0-9b77-e713440ca295",
   "metadata": {},
   "outputs": [],
   "source": []
  }
 ],
 "metadata": {
  "kernelspec": {
   "display_name": "Python 3 (ipykernel)",
   "language": "python",
   "name": "python3"
  },
  "language_info": {
   "codemirror_mode": {
    "name": "ipython",
    "version": 3
   },
   "file_extension": ".py",
   "mimetype": "text/x-python",
   "name": "python",
   "nbconvert_exporter": "python",
   "pygments_lexer": "ipython3",
   "version": "3.7.12"
  }
 },
 "nbformat": 4,
 "nbformat_minor": 5
}
